{
 "cells": [
  {
   "cell_type": "code",
   "execution_count": 1,
   "metadata": {},
   "outputs": [
    {
     "name": "stderr",
     "output_type": "stream",
     "text": [
      "Using TensorFlow backend.\n"
     ]
    }
   ],
   "source": [
    "import pandas as pd\n",
    "import matplotlib.pyplot as plt\n",
    "from sklearn.utils import shuffle\n",
    "import os\n",
    "os.environ[\"CUDA_DEVICE_ORDER\"] = \"PCI_BUS_ID\" \n",
    "os.environ[\"CUDA_VISIBLE_DEVICES\"] = \"\"\n",
    "from keras import layers\n",
    "from keras.models import Model\n",
    "from keras.layers import Input, Embedding, Dot, Add, Flatten\n",
    "from keras.regularizers import l2\n",
    "from keras.optimizers import SGD, Adam, rmsprop\n",
    "from keras.layers import Dropout, Flatten, Conv1D\n",
    "from sklearn.preprocessing import LabelEncoder\n",
    "from keras.callbacks import ReduceLROnPlateau, EarlyStopping\n",
    "from sklearn.model_selection import train_test_split\n",
    "from keras.models import load_model\n",
    "import numpy as np\n",
    "\n",
    "################ 파일 로드\n",
    "books = pd.read_csv('../data/BX-Books.csv', encoding='cp1252')\n",
    "books = books.drop_duplicates(subset='ISBN')\n",
    "users = pd.read_csv('../data/BX-users.csv', encoding='cp1252')\n",
    "ratings = pd.read_csv('../data/BX-Book-Ratings.csv', encoding='cp1252')\n",
    "ratings = ratings[ratings['Book-Rating']!=0].copy()\n",
    "\n",
    "import keras.backend as KB\n",
    "def RMSE(y_true, y_pred):\n",
    "    return KB.sqrt(KB.mean((y_true - y_pred)**2))\n",
    "\n",
    "\n",
    "def f1_m(y_true, y_pred):\n",
    "    precision = precision_m(y_true, y_pred)\n",
    "    recall = recall_m(y_true, y_pred)\n",
    "    return 2*((precision*recall)/(precision+recall+KB.epsilon()))\n",
    "def recall_m(y_true, y_pred):\n",
    "        true_positives = KB.sum(KB.round(KB.clip(y_true * y_pred, 0, 1)))\n",
    "        possible_positives = KB.sum(KB.round(KB.clip(y_true, 0, 1)))\n",
    "        recall = true_positives / (possible_positives + KB.epsilon())\n",
    "        return recall\n",
    "def precision_m(y_true, y_pred):\n",
    "        true_positives = KB.sum(KB.round(KB.clip(y_true * y_pred, 0, 1)))\n",
    "        predicted_positives = KB.sum(KB.round(KB.clip(y_pred, 0, 1)))\n",
    "        precision = true_positives / (predicted_positives + KB.epsilon())\n",
    "        return precision\n",
    "\n",
    "################ 전처리\n",
    "# 국가 추출\n",
    "#print(users['Location'].apply(lambda x: x.split(',')[-1].strip()).unique())\n",
    "users['Location'] = users['Location'].apply(lambda x: x.split(',')[-1].strip())\n",
    "usa_list = ['usa', 'united state', 'united states', 'u.s.a.']\n",
    "unknown_list = ['','far away...', 'here and there']\n",
    "england_list = ['england','united kingdom']\n",
    "spain_list = ['orense','spain']\n",
    "# usa, unknown으로 처리\n",
    "users['Location'] = users['Location'].replace(to_replace=usa_list, value='usa')\n",
    "users['Location'] = users['Location'].replace(to_replace=unknown_list, value='unknown')\n",
    "\n",
    "#england, spain 나라,도시 위치 오류 수정\n",
    "users['Location'] = users['Location'].replace(to_replace=england_list, value='england')\n",
    "users['Location'] = users['Location'].replace(to_replace=spain_list, value='spain')\n",
    "\n",
    "# user, book, rating 테이블 병합\n",
    "ratings = pd.merge(pd.merge(ratings, books, on='ISBN', how='left'), users, on='User-ID', how='left')\n",
    "# Rating 0인 경우 제거\n",
    "ratings = ratings[ratings['Book-Rating']!=0]\n",
    "# 나이 최대 122세로 제한\n",
    "ratings.loc[ratings['Age']>120, 'Age'] = 122\n",
    "\n",
    "# 나이, 출판일자 범주형으로 변환\n",
    "ratings['Age'] = ratings['Age'].apply(lambda x: str(int(x//10*10)))\n",
    "ratings['Year-Of-Publication'] = ratings['Year-Of-Publication'].apply(lambda x: str(int(x//10*10)))\n",
    "\n",
    "# 범주형 변수를 숫자로 변환\n",
    "le = {}\n",
    "cols = ['ISBN','Book-Author','Publisher','Year-Of-Publication','User-ID','Location','Age']\n",
    "for col in cols:\n",
    "    le[col] = LabelEncoder()\n",
    "    ratings[col] = le[col].fit_transform(ratings[col].astype(str))\n",
    "\n",
    "features = ['ISBN','Book-Author','Publisher','Year-Of-Publication','User-ID','Location','Age']\n",
    "X_train, X_test, Y_train, Y_test = train_test_split(ratings[features], \n",
    "                                                    ratings['Book-Rating'].values, test_size=0.3, random_state=11)\n",
    "\n",
    "mu = Y_train.mean()\n",
    "batch_size = 16\n"
   ]
  },
  {
   "cell_type": "markdown",
   "metadata": {},
   "source": [
    "# 학습 및 검증"
   ]
  },
  {
   "cell_type": "code",
   "execution_count": 2,
   "metadata": {},
   "outputs": [
    {
     "name": "stderr",
     "output_type": "stream",
     "text": [
      "WARNING: Logging before flag parsing goes to stderr.\n",
      "W1208 22:04:25.644519 32668 deprecation_wrapper.py:119] From C:\\Users\\name\\Anaconda3\\lib\\site-packages\\keras\\backend\\tensorflow_backend.py:74: The name tf.get_default_graph is deprecated. Please use tf.compat.v1.get_default_graph instead.\n",
      "\n",
      "W1208 22:04:25.654961 32668 deprecation_wrapper.py:119] From C:\\Users\\name\\Anaconda3\\lib\\site-packages\\keras\\backend\\tensorflow_backend.py:517: The name tf.placeholder is deprecated. Please use tf.compat.v1.placeholder instead.\n",
      "\n",
      "W1208 22:04:25.657913 32668 deprecation_wrapper.py:119] From C:\\Users\\name\\Anaconda3\\lib\\site-packages\\keras\\backend\\tensorflow_backend.py:4138: The name tf.random_uniform is deprecated. Please use tf.random.uniform instead.\n",
      "\n",
      "W1208 22:04:25.791819 32668 deprecation_wrapper.py:119] From C:\\Users\\name\\Anaconda3\\lib\\site-packages\\keras\\optimizers.py:790: The name tf.train.Optimizer is deprecated. Please use tf.compat.v1.train.Optimizer instead.\n",
      "\n",
      "W1208 22:04:25.878638 32668 deprecation.py:323] From C:\\Users\\name\\Anaconda3\\lib\\site-packages\\tensorflow\\python\\ops\\math_grad.py:1250: add_dispatch_support.<locals>.wrapper (from tensorflow.python.ops.array_ops) is deprecated and will be removed in a future version.\n",
      "Instructions for updating:\n",
      "Use tf.where in 2.0, which has the same broadcast rule as np.where\n",
      "W1208 22:04:26.047276 32668 deprecation_wrapper.py:119] From C:\\Users\\name\\Anaconda3\\lib\\site-packages\\keras\\backend\\tensorflow_backend.py:986: The name tf.assign_add is deprecated. Please use tf.compat.v1.assign_add instead.\n",
      "\n",
      "W1208 22:04:26.063148 32668 deprecation_wrapper.py:119] From C:\\Users\\name\\Anaconda3\\lib\\site-packages\\keras\\backend\\tensorflow_backend.py:973: The name tf.assign is deprecated. Please use tf.compat.v1.assign instead.\n",
      "\n"
     ]
    },
    {
     "name": "stdout",
     "output_type": "stream",
     "text": [
      "Train on 22378 samples, validate on 2487 samples\n",
      "Epoch 1/100\n",
      "22378/22378 [==============================] - 4s 185us/step - loss: 1.7383 - mean_squared_error: 3.1319 - RMSE: 1.7362 - val_loss: 1.7203 - val_mean_squared_error: 3.0531 - val_RMSE: 1.7173\n",
      "Epoch 2/100\n",
      "22378/22378 [==============================] - 4s 179us/step - loss: 1.6088 - mean_squared_error: 2.6835 - RMSE: 1.6041 - val_loss: 1.6930 - val_mean_squared_error: 2.9509 - val_RMSE: 1.6867\n",
      "Epoch 3/100\n",
      "22378/22378 [==============================] - 3s 155us/step - loss: 1.5222 - mean_squared_error: 2.3987 - RMSE: 1.5137 - val_loss: 1.6819 - val_mean_squared_error: 2.9010 - val_RMSE: 1.6714\n",
      "Epoch 4/100\n",
      "22378/22378 [==============================] - 3s 149us/step - loss: 1.4577 - mean_squared_error: 2.1850 - RMSE: 1.4447 - val_loss: 1.6767 - val_mean_squared_error: 2.8682 - val_RMSE: 1.6613\n",
      "Epoch 5/100\n",
      "22378/22378 [==============================] - 4s 156us/step - loss: 1.4031 - mean_squared_error: 2.0148 - RMSE: 1.3851 - val_loss: 1.6762 - val_mean_squared_error: 2.8498 - val_RMSE: 1.6556\n",
      "Epoch 6/100\n",
      "22378/22378 [==============================] - 4s 163us/step - loss: 1.3566 - mean_squared_error: 1.8701 - RMSE: 1.3331 - val_loss: 1.6791 - val_mean_squared_error: 2.8419 - val_RMSE: 1.6529\n",
      "Epoch 7/100\n",
      "22378/22378 [==============================] - 4s 193us/step - loss: 1.3163 - mean_squared_error: 1.7468 - RMSE: 1.2872 - val_loss: 1.6847 - val_mean_squared_error: 2.8431 - val_RMSE: 1.6527\n",
      "Epoch 8/100\n",
      "22378/22378 [==============================] - 5s 214us/step - loss: 1.2801 - mean_squared_error: 1.6374 - RMSE: 1.2450 - val_loss: 1.6895 - val_mean_squared_error: 2.8388 - val_RMSE: 1.6514\n",
      "Epoch 9/100\n",
      "22378/22378 [==============================] - 4s 190us/step - loss: 1.2463 - mean_squared_error: 1.5367 - RMSE: 1.2051 - val_loss: 1.6959 - val_mean_squared_error: 2.8399 - val_RMSE: 1.6516\n",
      "Epoch 10/100\n",
      "22378/22378 [==============================] - 5s 223us/step - loss: 1.2133 - mean_squared_error: 1.4409 - RMSE: 1.1656 - val_loss: 1.7063 - val_mean_squared_error: 2.8527 - val_RMSE: 1.6555\n",
      "Epoch 11/100\n",
      "22378/22378 [==============================] - 4s 196us/step - loss: 1.1797 - mean_squared_error: 1.3439 - RMSE: 1.1253 - val_loss: 1.7130 - val_mean_squared_error: 2.8516 - val_RMSE: 1.6551\n",
      "Epoch 12/100\n",
      "22378/22378 [==============================] - 4s 178us/step - loss: 1.1447 - mean_squared_error: 1.2464 - RMSE: 1.0831 - val_loss: 1.7231 - val_mean_squared_error: 2.8619 - val_RMSE: 1.6579\n"
     ]
    },
    {
     "data": {
      "image/png": "[encoded data removed]",
      "text/plain": [
       "<Figure size 432x288 with 1 Axes>"
      ]
     },
     "metadata": {
      "needs_background": "light"
     },
     "output_type": "display_data"
    },
    {
     "name": "stdout",
     "output_type": "stream",
     "text": [
      "baseline:  1.825031785944131\n",
      "rmse:  1.6398587645068416\n"
     ]
    }
   ],
   "source": [
    "################ 1. Matrix Factorization\n",
    "import reco_models\n",
    "features=['ISBN','User-ID']\n",
    "f_size = [len(set(ratings[i])) for i in features] \n",
    "\n",
    "model = reco_models.factorization_machine(f_size, k_latent=5, embedding_reg=0.00001)\n",
    "\n",
    "import keras.backend as KB\n",
    "def RMSE(y_true, y_pred):\n",
    "    return KB.sqrt(KB.mean((y_true - y_pred)**2))\n",
    "\n",
    "model.compile(\n",
    "  loss=RMSE,\n",
    "  #optimizer=Adam(lr=0.0003),\n",
    "  optimizer=SGD(lr=0.07, momentum=0.9),\n",
    "  metrics=['mse', RMSE],\n",
    ")\n",
    "\n",
    "reduce_lr = ReduceLROnPlateau(monitor='val_RMSE', factor=0.2,  patience=5)\n",
    "es = EarlyStopping(monitor='val_RMSE', patience=4, restore_best_weights=True)\n",
    "\n",
    "result = model.fit(x=[X_train[feature].values for feature in features], y=(Y_train-mu),\n",
    "                   batch_size=batch_size, epochs=100, \n",
    "                   validation_split=0.1,\n",
    "                   callbacks=[reduce_lr, es])\n",
    "# eval\n",
    "# Plot RMSE\n",
    "plt.plot(result.history['RMSE'], label=\"Train RMSE\")\n",
    "plt.plot(result.history['val_RMSE'], label=\"Test RMSE\")\n",
    "plt.legend()\n",
    "plt.show()\n",
    "\n",
    "import numpy as np\n",
    "predictions = model.predict([X_test[feature].values for feature in features])+mu\n",
    "print('baseline: ', np.mean((Y_test-np.mean(Y_test))**2)**0.5)\n",
    "print('rmse: ', np.sqrt(np.mean((Y_test-predictions.reshape(-1,))**2)))\n",
    "mf_pred = predictions\n"
   ]
  },
  {
   "cell_type": "code",
   "execution_count": 3,
   "metadata": {
    "scrolled": true
   },
   "outputs": [
    {
     "name": "stdout",
     "output_type": "stream",
     "text": [
      "Train on 24865 samples, validate on 10657 samples\n",
      "Epoch 1/100\n",
      "24865/24865 [==============================] - 13s 537us/step - loss: 3.2852 - mean_squared_error: 3.2740 - RMSE: 1.7774 - val_loss: 3.1278 - val_mean_squared_error: 3.1186 - val_RMSE: 1.7367\n",
      "Epoch 2/100\n",
      "24865/24865 [==============================] - 14s 560us/step - loss: 2.8922 - mean_squared_error: 2.8736 - RMSE: 1.6625 - val_loss: 2.8152 - val_mean_squared_error: 2.7883 - val_RMSE: 1.6362\n",
      "Epoch 3/100\n",
      "24865/24865 [==============================] - 13s 538us/step - loss: 2.5056 - mean_squared_error: 2.4703 - RMSE: 1.5338 - val_loss: 2.7448 - val_mean_squared_error: 2.7031 - val_RMSE: 1.6088\n",
      "Epoch 4/100\n",
      "24865/24865 [==============================] - 13s 511us/step - loss: 2.3043 - mean_squared_error: 2.2545 - RMSE: 1.4633 - val_loss: 2.7384 - val_mean_squared_error: 2.6824 - val_RMSE: 1.6001\n",
      "Epoch 5/100\n",
      "24865/24865 [==============================] - 13s 509us/step - loss: 2.1569 - mean_squared_error: 2.0921 - RMSE: 1.4092 - val_loss: 2.7514 - val_mean_squared_error: 2.6791 - val_RMSE: 1.5988\n",
      "Epoch 6/100\n",
      "24865/24865 [==============================] - 13s 531us/step - loss: 1.9942 - mean_squared_error: 1.9120 - RMSE: 1.3444 - val_loss: 2.7710 - val_mean_squared_error: 2.6799 - val_RMSE: 1.5988\n",
      "Epoch 7/100\n",
      "24865/24865 [==============================] - 13s 529us/step - loss: 1.7629 - mean_squared_error: 1.6608 - RMSE: 1.2516 - val_loss: 2.8021 - val_mean_squared_error: 2.6904 - val_RMSE: 1.5998\n",
      "Epoch 8/100\n",
      "24865/24865 [==============================] - 13s 543us/step - loss: 1.4568 - mean_squared_error: 1.3352 - RMSE: 1.1178 - val_loss: 2.8761 - val_mean_squared_error: 2.7455 - val_RMSE: 1.6162\n",
      "Epoch 9/100\n",
      "24865/24865 [==============================] - 14s 547us/step - loss: 1.1275 - mean_squared_error: 0.9905 - RMSE: 0.9564 - val_loss: 2.9844 - val_mean_squared_error: 2.8414 - val_RMSE: 1.6454\n",
      "Epoch 10/100\n",
      "24865/24865 [==============================] - 14s 545us/step - loss: 0.8612 - mean_squared_error: 0.7175 - RMSE: 0.8086 - val_loss: 3.0589 - val_mean_squared_error: 2.9130 - val_RMSE: 1.6661\n",
      "Epoch 11/100\n",
      "24865/24865 [==============================] - 14s 550us/step - loss: 0.6232 - mean_squared_error: 0.4793 - RMSE: 0.6506 - val_loss: 3.0715 - val_mean_squared_error: 2.9296 - val_RMSE: 1.6712\n"
     ]
    },
    {
     "data": {
      "image/png": "[encoded data removed]",
      "text/plain": [
       "<Figure size 432x288 with 1 Axes>"
      ]
     },
     "metadata": {
      "needs_background": "light"
     },
     "output_type": "display_data"
    },
    {
     "name": "stdout",
     "output_type": "stream",
     "text": [
      "baseline:  1.8256998480931332\n",
      "rmse:  1.6370445752256595\n"
     ]
    }
   ],
   "source": [
    "################ 2. Modified MF\n",
    "import reco_models\n",
    "features = ['ISBN','Book-Author','Publisher','Year-Of-Publication','User-ID','Location','Age']\n",
    "model = reco_models.conv_mf(ratings, K=10, reg=0.0005)\n",
    "\n",
    "\n",
    "model.compile(\n",
    "  loss='mse',\n",
    "  optimizer=Adam(lr=0.0003),\n",
    "  #optimizer=SGD(lr=0.07, momentum=0.9),\n",
    "  metrics=['mse', RMSE],\n",
    ")\n",
    "\n",
    "reduce_lr = ReduceLROnPlateau(monitor='val_RMSE', factor=0.2,  patience=5)\n",
    "es = EarlyStopping(monitor='val_RMSE', patience=5, restore_best_weights=True)\n",
    "\n",
    "result = model.fit(x=[X_train[feature].values for feature in features], y=(Y_train-mu),\n",
    "                   batch_size=batch_size, epochs=100, \n",
    "                   validation_split=0.1,\n",
    "                   callbacks=[reduce_lr, es])\n",
    "# eval\n",
    "# Plot RMSE\n",
    "plt.plot(result.history['RMSE'], label=\"Train RMSE\")\n",
    "plt.plot(result.history['val_RMSE'], label=\"Test RMSE\")\n",
    "plt.legend()\n",
    "plt.show()\n",
    "\n",
    "\n",
    "predictions = model.predict([X_test[feature].values for feature in features]) + mu\n",
    "print('baseline: ', np.mean((Y_test-mu)**2)**0.5)\n",
    "print('rmse: ', np.sqrt(np.mean((Y_test-predictions.reshape(-1,))**2)))\n",
    "conv_mf_pred = predictions\n"
   ]
  },
  {
   "cell_type": "code",
   "execution_count": 4,
   "metadata": {
    "scrolled": true
   },
   "outputs": [
    {
     "name": "stdout",
     "output_type": "stream",
     "text": [
      "Train on 22378 samples, validate on 2487 samples\n",
      "Epoch 1/100\n",
      "22378/22378 [==============================] - 13s 575us/step - loss: 3.2911 - mean_squared_error: 3.2747 - RMSE: 1.7777 - val_loss: 3.2598 - val_mean_squared_error: 3.2467 - val_RMSE: 1.7725\n",
      "Epoch 2/100\n",
      "22378/22378 [==============================] - 11s 505us/step - loss: 3.0132 - mean_squared_error: 2.9884 - RMSE: 1.6939 - val_loss: 3.1384 - val_mean_squared_error: 3.1022 - val_RMSE: 1.7302\n",
      "Epoch 3/100\n",
      "22378/22378 [==============================] - 11s 501us/step - loss: 2.7070 - mean_squared_error: 2.6536 - RMSE: 1.5919 - val_loss: 3.0539 - val_mean_squared_error: 2.9846 - val_RMSE: 1.6948\n",
      "Epoch 4/100\n",
      "22378/22378 [==============================] - 11s 498us/step - loss: 2.4181 - mean_squared_error: 2.3295 - RMSE: 1.4887 - val_loss: 3.0059 - val_mean_squared_error: 2.8999 - val_RMSE: 1.6687\n",
      "Epoch 5/100\n",
      "22378/22378 [==============================] - 11s 494us/step - loss: 2.1620 - mean_squared_error: 2.0374 - RMSE: 1.3883 - val_loss: 2.9947 - val_mean_squared_error: 2.8534 - val_RMSE: 1.6538\n",
      "Epoch 6/100\n",
      "22378/22378 [==============================] - 11s 479us/step - loss: 1.9425 - mean_squared_error: 1.7844 - RMSE: 1.2966 - val_loss: 3.0002 - val_mean_squared_error: 2.8272 - val_RMSE: 1.6464\n",
      "Epoch 7/100\n",
      "22378/22378 [==============================] - 11s 499us/step - loss: 1.7548 - mean_squared_error: 1.5676 - RMSE: 1.2112 - val_loss: 3.0225 - val_mean_squared_error: 2.8223 - val_RMSE: 1.6439\n",
      "Epoch 8/100\n",
      "22378/22378 [==============================] - 11s 490us/step - loss: 1.5947 - mean_squared_error: 1.3827 - RMSE: 1.1348 - val_loss: 3.0565 - val_mean_squared_error: 2.8340 - val_RMSE: 1.6478\n",
      "Epoch 9/100\n",
      "22378/22378 [==============================] - 11s 487us/step - loss: 1.4604 - mean_squared_error: 1.2294 - RMSE: 1.0676 - val_loss: 3.0975 - val_mean_squared_error: 2.8574 - val_RMSE: 1.6546\n",
      "Epoch 10/100\n",
      "22378/22378 [==============================] - 11s 496us/step - loss: 1.3441 - mean_squared_error: 1.0975 - RMSE: 1.0073 - val_loss: 3.1243 - val_mean_squared_error: 2.8706 - val_RMSE: 1.6588\n",
      "Epoch 11/100\n",
      "22378/22378 [==============================] - 11s 482us/step - loss: 1.2478 - mean_squared_error: 0.9897 - RMSE: 0.9573 - val_loss: 3.1801 - val_mean_squared_error: 2.9164 - val_RMSE: 1.6713\n"
     ]
    },
    {
     "data": {
      "image/png": "[encoded data removed]",
      "text/plain": [
       "<Figure size 432x288 with 1 Axes>"
      ]
     },
     "metadata": {
      "needs_background": "light"
     },
     "output_type": "display_data"
    },
    {
     "name": "stdout",
     "output_type": "stream",
     "text": [
      "baseline:  1.825031785944131\n",
      "rmse:  1.641353834576552\n"
     ]
    }
   ],
   "source": [
    "################ 3. Factorizaiton Machine\n",
    "import reco_models\n",
    "features = ['ISBN','Book-Author','Publisher','Year-Of-Publication','User-ID','Location','Age']\n",
    "f_size = [len(set(ratings[i])) for i in features] \n",
    "import keras.backend as KB\n",
    "def RMSE(y_true, y_pred):\n",
    "    return KB.sqrt(KB.mean((y_true - y_pred)**2))\n",
    "\n",
    "model=reco_models.factorization_machine(f_size, k_latent=10, embedding_reg=0.0005)\n",
    "model.compile(\n",
    "  loss='mse',\n",
    "  optimizer=Adam(lr=0.0003),\n",
    "  #optimizer=SGD(lr=0.07, momentum=0.9),\n",
    "  metrics=['mse', RMSE],\n",
    ")\n",
    "\n",
    "reduce_lr = ReduceLROnPlateau(monitor='val_RMSE', factor=0.2,  patience=5)\n",
    "es = EarlyStopping(monitor='val_RMSE', patience=4, restore_best_weights=True)\n",
    "\n",
    "result = model.fit(x=[X_train[feature].values for feature in features], y=(Y_train-mu),\n",
    "                   batch_size=batch_size, epochs=100, \n",
    "                   validation_split=0.1,\n",
    "                   callbacks=[reduce_lr, es])\n",
    "\n",
    "# eval\n",
    "# Plot RMSE\n",
    "plt.plot(result.history['RMSE'], label=\"Train RMSE\")\n",
    "plt.plot(result.history['val_RMSE'], label=\"Test RMSE\")\n",
    "plt.legend()\n",
    "plt.show()\n",
    "\n",
    "import numpy as np\n",
    "predictions = model.predict([X_test[feature].values for feature in features]) + mu\n",
    "print('baseline: ', np.mean((Y_test-np.mean(Y_test))**2)**0.5)\n",
    "print('rmse: ', np.sqrt(np.mean((Y_test-predictions.reshape(-1,))**2)))\n",
    "fm_pred = predictions\n",
    "\n"
   ]
  },
  {
   "cell_type": "code",
   "execution_count": 5,
   "metadata": {},
   "outputs": [],
   "source": [
    "ensemble_pred = np.hstack([mf_pred, fm_pred, conv_mf_pred]).mean(axis=1) \n",
    "#ensemble_pred = np.hstack([fm_pred, mf_pred]).mean(axis=1) "
   ]
  },
  {
   "cell_type": "code",
   "execution_count": 6,
   "metadata": {},
   "outputs": [
    {
     "name": "stdout",
     "output_type": "stream",
     "text": [
      "baseline:  1.825031785944131\n",
      "rmse:  1.6132957130210686\n"
     ]
    }
   ],
   "source": [
    "################ 4. Hybrid\n",
    "predictions = ensemble_pred.clip(1,10)\n",
    "print('baseline: ', np.mean((Y_test-np.mean(Y_test))**2)**0.5)\n",
    "print('rmse: ', np.sqrt(np.mean((Y_test-predictions.reshape(-1,))**2)))"
   ]
  },
  {
   "cell_type": "code",
   "execution_count": 8,
   "metadata": {
    "scrolled": true
   },
   "outputs": [
    {
     "name": "stdout",
     "output_type": "stream",
     "text": [
      "Train on 24865 samples, validate on 10657 samples\n",
      "Epoch 1/100\n",
      "24865/24865 [==============================] - 3s 110us/step - loss: 0.2348 - acc: 0.4750 - f1_m: 0.3579 - val_loss: 0.7009 - val_acc: 0.4617 - val_f1_m: 0.3926\n",
      "Epoch 2/100\n",
      "24865/24865 [==============================] - 2s 71us/step - loss: 0.2168 - acc: 0.5534 - f1_m: 0.3980 - val_loss: 0.6492 - val_acc: 0.6202 - val_f1_m: 0.4277\n",
      "Epoch 3/100\n",
      "24865/24865 [==============================] - 2s 72us/step - loss: 0.2068 - acc: 0.6596 - f1_m: 0.4572 - val_loss: 0.5991 - val_acc: 0.6920 - val_f1_m: 0.4760\n",
      "Epoch 4/100\n",
      "24865/24865 [==============================] - 2s 68us/step - loss: 0.1941 - acc: 0.7355 - f1_m: 0.5267 - val_loss: 0.5994 - val_acc: 0.6986 - val_f1_m: 0.4968\n",
      "Epoch 5/100\n",
      "24865/24865 [==============================] - 2s 68us/step - loss: 0.1840 - acc: 0.7632 - f1_m: 0.5669 - val_loss: 0.5956 - val_acc: 0.7030 - val_f1_m: 0.5038\n",
      "Epoch 6/100\n",
      "24865/24865 [==============================] - 2s 70us/step - loss: 0.1778 - acc: 0.7648 - f1_m: 0.5712 - val_loss: 0.5785 - val_acc: 0.7095 - val_f1_m: 0.5048\n",
      "Epoch 7/100\n",
      "24865/24865 [==============================] - 2s 87us/step - loss: 0.1736 - acc: 0.7630 - f1_m: 0.5768 - val_loss: 0.5668 - val_acc: 0.7195 - val_f1_m: 0.5062\n",
      "Epoch 8/100\n",
      "24865/24865 [==============================] - 2s 86us/step - loss: 0.1701 - acc: 0.7608 - f1_m: 0.5715 - val_loss: 0.5972 - val_acc: 0.6973 - val_f1_m: 0.4967\n",
      "Epoch 9/100\n",
      "24865/24865 [==============================] - 2s 87us/step - loss: 0.1681 - acc: 0.7588 - f1_m: 0.5726 - val_loss: 0.5789 - val_acc: 0.7143 - val_f1_m: 0.5086\n",
      "Epoch 10/100\n",
      "24865/24865 [==============================] - 2s 87us/step - loss: 0.1662 - acc: 0.7579 - f1_m: 0.5732 - val_loss: 0.5927 - val_acc: 0.7024 - val_f1_m: 0.5035\n",
      "Epoch 11/100\n",
      "24865/24865 [==============================] - 2s 88us/step - loss: 0.1643 - acc: 0.7588 - f1_m: 0.5746 - val_loss: 0.5763 - val_acc: 0.7105 - val_f1_m: 0.5016\n",
      "Epoch 12/100\n",
      "24865/24865 [==============================] - 2s 87us/step - loss: 0.1622 - acc: 0.7645 - f1_m: 0.5808 - val_loss: 0.5722 - val_acc: 0.7205 - val_f1_m: 0.5043\n",
      "Epoch 13/100\n",
      "24865/24865 [==============================] - 2s 87us/step - loss: 0.1467 - acc: 0.7892 - f1_m: 0.6198 - val_loss: 0.5584 - val_acc: 0.7309 - val_f1_m: 0.5111\n",
      "Epoch 14/100\n",
      "24865/24865 [==============================] - 2s 91us/step - loss: 0.1442 - acc: 0.7921 - f1_m: 0.6247 - val_loss: 0.5555 - val_acc: 0.7331 - val_f1_m: 0.5158\n",
      "Epoch 15/100\n",
      "24865/24865 [==============================] - 2s 87us/step - loss: 0.1427 - acc: 0.7910 - f1_m: 0.6244 - val_loss: 0.5492 - val_acc: 0.7367 - val_f1_m: 0.5160\n",
      "Epoch 16/100\n",
      "24865/24865 [==============================] - 2s 98us/step - loss: 0.1414 - acc: 0.7958 - f1_m: 0.6285 - val_loss: 0.5542 - val_acc: 0.7338 - val_f1_m: 0.5155\n",
      "Epoch 17/100\n",
      "24865/24865 [==============================] - 2s 98us/step - loss: 0.1401 - acc: 0.7944 - f1_m: 0.6293 - val_loss: 0.5507 - val_acc: 0.7366 - val_f1_m: 0.5151\n",
      "Epoch 18/100\n",
      "24865/24865 [==============================] - 3s 104us/step - loss: 0.1390 - acc: 0.7975 - f1_m: 0.6331 - val_loss: 0.5521 - val_acc: 0.7372 - val_f1_m: 0.5157\n",
      "Epoch 19/100\n",
      "24865/24865 [==============================] - 2s 96us/step - loss: 0.1379 - acc: 0.7997 - f1_m: 0.6353 - val_loss: 0.5536 - val_acc: 0.7368 - val_f1_m: 0.5164\n",
      "Epoch 20/100\n",
      "24865/24865 [==============================] - 2s 95us/step - loss: 0.1368 - acc: 0.8018 - f1_m: 0.6379 - val_loss: 0.5531 - val_acc: 0.7371 - val_f1_m: 0.5167\n",
      "Epoch 21/100\n",
      "24865/24865 [==============================] - 3s 102us/step - loss: 0.1324 - acc: 0.8080 - f1_m: 0.6490 - val_loss: 0.5532 - val_acc: 0.7375 - val_f1_m: 0.5173\n",
      "Epoch 22/100\n",
      "24865/24865 [==============================] - 2s 97us/step - loss: 0.1321 - acc: 0.8084 - f1_m: 0.6493 - val_loss: 0.5535 - val_acc: 0.7374 - val_f1_m: 0.5168\n",
      "Epoch 23/100\n",
      "24865/24865 [==============================] - 2s 91us/step - loss: 0.1319 - acc: 0.8078 - f1_m: 0.6489 - val_loss: 0.5516 - val_acc: 0.7390 - val_f1_m: 0.5176\n",
      "Epoch 24/100\n",
      "24865/24865 [==============================] - 2s 87us/step - loss: 0.1317 - acc: 0.8086 - f1_m: 0.6491 - val_loss: 0.5510 - val_acc: 0.7390 - val_f1_m: 0.5178\n",
      "Epoch 25/100\n",
      "24865/24865 [==============================] - 2s 87us/step - loss: 0.1314 - acc: 0.8097 - f1_m: 0.6501 - val_loss: 0.5534 - val_acc: 0.7384 - val_f1_m: 0.5176\n",
      "baseline:  1.8256998480931332\n",
      "rmse:  1.6131990132485043\n"
     ]
    }
   ],
   "source": [
    "################ 5. Hybrid + classification\n",
    "def f1_m(y_true, y_pred):\n",
    "    precision = precision_m(y_true, y_pred)\n",
    "    recall = recall_m(y_true, y_pred)\n",
    "    return 2*((precision*recall)/(precision+recall+KB.epsilon()))\n",
    "def recall_m(y_true, y_pred):\n",
    "        true_positives = KB.sum(KB.round(KB.clip(y_true * y_pred, 0, 1)))\n",
    "        possible_positives = KB.sum(KB.round(KB.clip(y_true, 0, 1)))\n",
    "        recall = true_positives / (possible_positives + KB.epsilon())\n",
    "        return recall\n",
    "def precision_m(y_true, y_pred):\n",
    "        true_positives = KB.sum(KB.round(KB.clip(y_true * y_pred, 0, 1)))\n",
    "        predicted_positives = KB.sum(KB.round(KB.clip(y_pred, 0, 1)))\n",
    "        precision = true_positives / (predicted_positives + KB.epsilon())\n",
    "        return precision\n",
    "\n",
    "import classification\n",
    "clf_model = load_model('../model/clf1209.h5', custom_objects={\"f1_m\":f1_m,\"recall_m\":recall_m,\"precision_m\":precision_m})\n",
    "\n",
    "features = ['ISBN','Book-Author','Publisher','Year-Of-Publication','User-ID','Location','Age']\n",
    "clf_pred = clf_model.predict([X_test[feature].values for feature in features])\n",
    "clf_pred = (clf_pred>0.98).astype(float)*10\n",
    "idx = np.where((clf_pred==10))[0]\n",
    "\n",
    "predictions2 = predictions.copy()\n",
    "predictions2[idx] = 10\n",
    "print('baseline: ', np.mean((Y_test-mu)**2)**0.5)\n",
    "print('rmse: ', np.sqrt(np.mean((Y_test-predictions2.reshape(-1,))**2)))"
   ]
  },
  {
   "cell_type": "code",
   "execution_count": null,
   "metadata": {},
   "outputs": [],
   "source": []
  },
  {
   "cell_type": "code",
   "execution_count": null,
   "metadata": {},
   "outputs": [],
   "source": []
  }
 ],
 "metadata": {
  "kernelspec": {
   "display_name": "Python 3",
   "language": "python",
   "name": "python3"
  },
  "language_info": {
   "codemirror_mode": {
    "name": "ipython",
    "version": 3
   },
   "file_extension": ".py",
   "mimetype": "text/x-python",
   "name": "python",
   "nbconvert_exporter": "python",
   "pygments_lexer": "ipython3",
   "version": "3.7.3"
  }
 },
 "nbformat": 4,
 "nbformat_minor": 2
}
